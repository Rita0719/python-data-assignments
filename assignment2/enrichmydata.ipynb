{
 "cells": [
  {
   "cell_type": "code",
   "execution_count": null,
   "metadata": {},
   "outputs": [],
   "source": [
    "import requests\n",
    "from bs4 import BeautifulSoup"
   ]
  },
  {
   "cell_type": "code",
   "execution_count": null,
   "metadata": {},
   "outputs": [],
   "source": [
    "r = requests.get('https://archiveofourown.org/media/Movies/fandoms')\n",
    "html=r.text\n",
    "html_str=BeautifulSoup(html,\"html.parser\")"
   ]
  },
  {
   "cell_type": "code",
   "execution_count": null,
   "metadata": {},
   "outputs": [],
   "source": [
    "data = html_str.find_all('li',attrs={'class':'letter listbox group'})"
   ]
  },
  {
   "cell_type": "code",
   "execution_count": null,
   "metadata": {},
   "outputs": [],
   "source": [
    "all_film=[]\n",
    "for session in data:\n",
    "    film_list = session.find('ul',attrs={'class':'tags index group'})\n",
    "    films = film_list.find_all('li')\n",
    "    one_session=[]\n",
    "    for i in films:\n",
    "        film={}\n",
    "        film['movie_name']=i.find('a').text\n",
    "        link=i.find('a')['href']\n",
    "        film['link']='{0}{1}'.format('https://archiveofourown.org/',link)\n",
    "        film['numbers'] = i.text.strip().split('\\n')[-1].strip()\n",
    "        film['year'] = film['movie_name'].split('(')[-1].strip()\n",
    "        film['year'] = film['year'].split(')')[0].strip()\n",
    "        one_session.append(film)\n",
    "    all_film.extend(one_session)"
   ]
  },
  {
   "cell_type": "code",
   "execution_count": null,
   "metadata": {},
   "outputs": [],
   "source": [
    "import pandas as pd\n",
    "df=pd.DataFrame(all_film)"
   ]
  },
  {
   "cell_type": "code",
   "execution_count": null,
   "metadata": {},
   "outputs": [],
   "source": [
    "df.to_csv('AO3.csv', index=False)"
   ]
  }
 ],
 "metadata": {
  "kernelspec": {
   "display_name": "Python 3",
   "language": "python",
   "name": "python3"
  },
  "language_info": {
   "codemirror_mode": {
    "name": "ipython",
    "version": 3
   },
   "file_extension": ".py",
   "mimetype": "text/x-python",
   "name": "python",
   "nbconvert_exporter": "python",
   "pygments_lexer": "ipython3",
   "version": "3.7.0"
  }
 },
 "nbformat": 4,
 "nbformat_minor": 2
}
