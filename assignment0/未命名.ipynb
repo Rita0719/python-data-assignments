{
 "cells": [
  {
   "cell_type": "code",
   "execution_count": 51,
   "metadata": {},
   "outputs": [
    {
     "name": "stdout",
     "output_type": "stream",
     "text": [
      "[('the', 70), ('to', 30), ('of', 26), ('in', 23), ('a', 21), ('trade', 15), ('and', 14), ('Chinese', 10), ('that', 10), ('for', 9), ('are', 9), ('war', 8), ('The', 8), ('China’s', 8), ('is', 8)]\n"
     ]
    }
   ],
   "source": [
    "list1=['/Users/Rita/Desktop/assignment0/trade-wars-news1.txt','/Users/Rita/Desktop/assignment0/trade-wars-news2.txt','/Users/Rita/Desktop/assignment0/trade-wars-news3.txt','/Users/Rita/Desktop/assignment0/trade-wars-news4.txt','/Users/Rita/Desktop/assignment0/trade-wars-news5.txt']\n",
    "f=open(list1[0],'r')\n",
    "strings=f.read()\n",
    "words=strings.split()\n",
    "\n",
    "\n",
    "from collections import Counter\n",
    "print (Counter(words).most_common(15))\n",
    "\n",
    "import csv\n",
    "with open('keyword_frequency.csv','w') as f:\n",
    "    mywriter=csv.writer(f)\n",
    "    mywriter.writercolumns([strings.split()])"
   ]
  },
  {
   "cell_type": "code",
   "execution_count": null,
   "metadata": {},
   "outputs": [],
   "source": []
  }
 ],
 "metadata": {
  "kernelspec": {
   "display_name": "Python 3",
   "language": "python",
   "name": "python3"
  },
  "language_info": {
   "codemirror_mode": {
    "name": "ipython",
    "version": 3
   },
   "file_extension": ".py",
   "mimetype": "text/x-python",
   "name": "python",
   "nbconvert_exporter": "python",
   "pygments_lexer": "ipython3",
   "version": "3.7.0"
  }
 },
 "nbformat": 4,
 "nbformat_minor": 2
}
